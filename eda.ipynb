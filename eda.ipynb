{
 "cells": [
  {
   "cell_type": "code",
   "execution_count": 1,
   "id": "24908853-e563-4dec-a881-4e1624ae1413",
   "metadata": {},
   "outputs": [],
   "source": [
    "from pathlib import Path\n",
    "from collections import Counter, defaultdict\n",
    "from PIL import Image\n",
    "\n",
    "import random, glob, logging\n",
    "import numpy as np\n",
    "import matplotlib.pyplot as plt"
   ]
  },
  {
   "cell_type": "code",
   "execution_count": 2,
   "id": "5b0a811a-fdc7-49da-b331-e02292ca16a6",
   "metadata": {},
   "outputs": [],
   "source": [
    "from preprocess import is_img, parse_fake_path\n",
    "from dataset import FakeImageDataset, RealImageDataset"
   ]
  },
  {
   "cell_type": "code",
   "execution_count": 3,
   "id": "10d0fe98-12ba-4438-9fc5-e1d84d8d0424",
   "metadata": {},
   "outputs": [],
   "source": [
    "real_root = Path(\"/home/cpsc4710_yz2483/scratch_cpsc4710/cpsc4710_yz2483/animedl2m_dataset/real_images/resized_img\")\n",
    "fake_root = Path(\"/home/cpsc4710_yz2483/scratch_yz2483/animedl2m_dataset/fake_images\")"
   ]
  },
  {
   "cell_type": "code",
   "execution_count": null,
   "id": "38812c8b-26e3-474c-93e8-37c752509929",
   "metadata": {},
   "outputs": [],
   "source": [
    "def collect_real_img(real_root: Path):\n",
    "    try:\n",
    "        ds = RealImageDataset(real_root)\n",
    "        paths = getattr(ds, \"paths\", [])\n",
    "    except Exception:\n",
    "        raise ValueError(f\"No matched files found in {real_root / \"resized_img\"}\")\n",
    "\n",
    "    for p in paths:\n",
    "        subset = p.parent.stem\n",
    "        id_ = p.stem\n",
    "        real_map[(subset, id_)] = p\n",
    "        \n",
    "    return real_map, paths"
   ]
  },
  {
   "cell_type": "code",
   "execution_count": 4,
   "id": "83ec1251-1758-4e9d-a75c-fe18326a8a35",
   "metadata": {},
   "outputs": [],
   "source": [
    "fake_img_dict = parse_fake_path(fake_root, quiet=False)"
   ]
  },
  {
   "cell_type": "code",
   "execution_count": 5,
   "id": "47ba4f48-8ddb-4307-9b5a-d725f9d12aef",
   "metadata": {},
   "outputs": [
    {
     "data": {
      "text/plain": [
       "{'subset': '0000',\n",
       " 'id': '10000',\n",
       " 'task': 'inpainting',\n",
       " 'model': 'FLUX1',\n",
       " 'inpaint_path': PosixPath('/home/cpsc4710_yz2483/scratch_yz2483/animedl2m_dataset/fake_images/0000/inpainting/10000/FLUX1_inpainting_10000_girl.png'),\n",
       " 'mask_label': 'girl',\n",
       " 'mask_path': PosixPath('/home/cpsc4710_yz2483/scratch_yz2483/animedl2m_dataset/fake_images/0000/mask/10000/girl.png'),\n",
       " 'info': {'description': 'The image is a manga panel featuring three girls. The central girl is surprised, wearing a sailor-style school uniform. To her left, a girl in a dress looks down, and to her right, another girl in a school uniform holds a newspaper. The scene is monochromatic with a focus on their expressions and poses.',\n",
       "  'objects': ['News', 'girl', 'character', 'accident', 'background']}}"
      ]
     },
     "execution_count": 5,
     "metadata": {},
     "output_type": "execute_result"
    }
   ],
   "source": [
    "fake_img_dict[\"records\"][0]"
   ]
  },
  {
   "cell_type": "code",
   "execution_count": null,
   "id": "db4ab883-27fc-44da-8aa0-ca5559584a55",
   "metadata": {},
   "outputs": [],
   "source": []
  }
 ],
 "metadata": {
  "kernelspec": {
   "display_name": "Python 3 (ipykernel)",
   "language": "python",
   "name": "python3"
  },
  "language_info": {
   "codemirror_mode": {
    "name": "ipython",
    "version": 3
   },
   "file_extension": ".py",
   "mimetype": "text/x-python",
   "name": "python",
   "nbconvert_exporter": "python",
   "pygments_lexer": "ipython3",
   "version": "3.10.18"
  }
 },
 "nbformat": 4,
 "nbformat_minor": 5
}

{
 "cells": [
  {
   "cell_type": "code",
   "execution_count": 1,
   "id": "24908853-e563-4dec-a881-4e1624ae1413",
   "metadata": {},
   "outputs": [],
   "source": [
    "from pathlib import Path\n",
    "from collections import Counter, defaultdict\n",
    "from PIL import Image\n",
    "\n",
    "import random, glob, logging\n",
    "import numpy as np\n",
    "import matplotlib.pyplot as plt"
   ]
  },
  {
   "cell_type": "code",
   "execution_count": null,
   "id": "5b0a811a-fdc7-49da-b331-e02292ca16a6",
   "metadata": {},
   "outputs": [],
   "source": [
    "from preprocess import is_img, parse_fake_path\n",
    "from dataset import FakeImageDataset, RealImageDataset, collapse_for_classification"
   ]
  },
  {
   "cell_type": "code",
   "execution_count": 3,
   "id": "10d0fe98-12ba-4438-9fc5-e1d84d8d0424",
   "metadata": {},
   "outputs": [],
   "source": [
    "real_root = Path(\"/home/cpsc4710_yz2483/scratch_cpsc4710/cpsc4710_yz2483/animedl2m_dataset/real_images/resized_img\")\n",
    "fake_root = Path(\"/home/cpsc4710_yz2483/scratch_yz2483/animedl2m_dataset/fake_images\")"
   ]
  },
  {
   "cell_type": "code",
   "execution_count": null,
   "id": "38812c8b-26e3-474c-93e8-37c752509929",
   "metadata": {},
   "outputs": [],
   "source": [
    "def collect_real_img(real_root: Path):\n",
    "    try:\n",
    "        ds = RealImageDataset(real_root)\n",
    "        paths = getattr(ds, \"paths\", [])\n",
    "    except Exception:\n",
    "        raise ValueError(f\"No matched files found in {real_root / \"resized_img\"}\")\n",
    "\n",
    "    real_map = {}\n",
    "    for p in paths:\n",
    "        subset = p.parent.stem\n",
    "        id_ = p.stem\n",
    "        if (subset, id_) in real_map:\n",
    "            logging.warning(f\"Duplicate real image for {(subset, id_)}: {p} vs {real_map[(subset, id_)]}\")\n",
    "        real_map[(subset, id_)] = p\n",
    "        \n",
    "    return real_map, paths"
   ]
  },
  {
   "cell_type": "code",
   "execution_count": null,
   "id": "83ec1251-1758-4e9d-a75c-fe18326a8a35",
   "metadata": {},
   "outputs": [],
   "source": [
    "fake_img_dict = parse_fake_path(fake_root, quiet=False)\n",
    "collapsed_fake_img_dict = collapse_for_classification(fake_img_dict[\"records\"])"
   ]
  },
  {
   "cell_type": "code",
   "execution_count": null,
   "id": "4d7c9571",
   "metadata": {},
   "outputs": [],
   "source": [
    "def _build_views(fake_root: Path, real_root: Path, collapsed_dict: dict):\n",
    "    # construct dict that stores paths by (subset, id) -> {task -> {model -> path}}\n",
    "    by_sid = {} # by (subset, id)\n",
    "    for g in collapsed_dict:\n",
    "        key_sid = (g[\"subset\"], g[\"id\"])\n",
    "        by_sid.setdefault(key_sid, {\"text2image\": {}, \"inpainting\": {}})\n",
    "        p = g.get(\"img_path\")\n",
    "        if isinstance(p, list) and p:\n",
    "            p = p[0]\n",
    "        if p and p.exists():\n",
    "            by_sid[key_sid][g[\"task\"]][g[\"model\"]] = p\n",
    "\n",
    "    real_map, real_paths = collect_real_img(real_root)\n",
    "    return collapsed_dict, by_sid, real_map, len(real_paths)"
   ]
  },
  {
   "cell_type": "code",
   "execution_count": 5,
   "id": "47ba4f48-8ddb-4307-9b5a-d725f9d12aef",
   "metadata": {},
   "outputs": [
    {
     "data": {
      "text/plain": [
       "{'subset': '0000',\n",
       " 'id': '10000',\n",
       " 'task': 'inpainting',\n",
       " 'model': 'FLUX1',\n",
       " 'inpaint_path': PosixPath('/home/cpsc4710_yz2483/scratch_yz2483/animedl2m_dataset/fake_images/0000/inpainting/10000/FLUX1_inpainting_10000_girl.png'),\n",
       " 'mask_label': 'girl',\n",
       " 'mask_path': PosixPath('/home/cpsc4710_yz2483/scratch_yz2483/animedl2m_dataset/fake_images/0000/mask/10000/girl.png'),\n",
       " 'info': {'description': 'The image is a manga panel featuring three girls. The central girl is surprised, wearing a sailor-style school uniform. To her left, a girl in a dress looks down, and to her right, another girl in a school uniform holds a newspaper. The scene is monochromatic with a focus on their expressions and poses.',\n",
       "  'objects': ['News', 'girl', 'character', 'accident', 'background']}}"
      ]
     },
     "execution_count": 5,
     "metadata": {},
     "output_type": "execute_result"
    }
   ],
   "source": [
    "fake_img_dict[\"records\"][0]"
   ]
  },
  {
   "cell_type": "code",
   "execution_count": null,
   "id": "db4ab883-27fc-44da-8aa0-ca5559584a55",
   "metadata": {},
   "outputs": [],
   "source": [
    "def make_sample_grid(fake_root: Path, real_root: Path, subset: str, id_: str, collapsed_fake_img_dict: dict,\n",
    "                     savepath: Path | None = None, figsize=(10, 6)):\n",
    "    MODELS = [\"SD\", \"SDXL\", \"FLUX1\"]\n",
    "    _, by_sid, real_map, _ = _build_views(fake_root, real_root, collapsed_fake_img_dict)\n",
    "    key_sid = (subset, id_)\n",
    "    d = by_sid.get(key_sid, {\"text2image\": {}, \"inpainting\": {}})\n",
    "\n",
    "    fig, axes = plt.subplots(2, 4, figsize=figsize)\n",
    "    axes = axes.reshape(2, 4)\n",
    "\n",
    "    def _show(ax, path, title):\n",
    "        ax.axis(\"off\")\n",
    "        if path:\n",
    "            from PIL import Image\n",
    "            im = Image.open(path).convert(\"RGB\")\n",
    "            ax.imshow(im)\n",
    "            ax.set_title(title, fontsize=10)\n",
    "    \n",
    "    _show(axes[0, 0], real_map.get(key_sid), f\"Real Image\\n{subset}/{id_}\")\n",
    "    for j, m in enumerate(MODELS, start=1):\n",
    "        _show(axes[0, j], d[\"text2image\"].get(m), f\"Text2Image - {m}\")\n",
    "    \n",
    "    for j, m in enumerate(MODELS):\n",
    "        _show(axes[1, j], d[\"inpainting\"].get(m), f\"Inpainting - {m}\")\n",
    "\n",
    "    axes[1, 3].axis(\"off\")\n",
    "    \n",
    "    plt.tight_layout()\n",
    "    if savepath:\n",
    "        plt.savefig(savepath, dpi=150, bbox_inches=\"tight\")\n",
    "    \n",
    "    plt.show()\n",
    "\n",
    "    "
   ]
  }
 ],
 "metadata": {
  "kernelspec": {
   "display_name": "Python 3 (ipykernel)",
   "language": "python",
   "name": "python3"
  },
  "language_info": {
   "codemirror_mode": {
    "name": "ipython",
    "version": 3
   },
   "file_extension": ".py",
   "mimetype": "text/x-python",
   "name": "python",
   "nbconvert_exporter": "python",
   "pygments_lexer": "ipython3",
   "version": "3.10.18"
  }
 },
 "nbformat": 4,
 "nbformat_minor": 5
}
